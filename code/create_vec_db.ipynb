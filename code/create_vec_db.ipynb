{
 "cells": [
  {
   "cell_type": "code",
   "execution_count": 2,
   "metadata": {},
   "outputs": [],
   "source": [
    "# create a big dataset for similarity search\n",
    "import numpy as np\n",
    "import pandas as pd\n",
    "import os\n",
    "import faiss"
   ]
  },
  {
   "cell_type": "code",
   "execution_count": 3,
   "metadata": {},
   "outputs": [],
   "source": [
    "dir_path = \"..\\\\tennis_atp\""
   ]
  },
  {
   "cell_type": "code",
   "execution_count": 4,
   "metadata": {},
   "outputs": [],
   "source": [
    "# create matches df\n",
    "matches_df = pd.read_csv(os.path.join(dir_path, \"atp_matches_2001.csv\"))\n",
    "\n",
    "for year in range(2002, 2025):\n",
    "    matches_df = pd.concat([matches_df, pd.read_csv(os.path.join(dir_path, f\"atp_matches_{year}.csv\") )])"
   ]
  },
  {
   "cell_type": "code",
   "execution_count": 5,
   "metadata": {},
   "outputs": [
    {
     "data": {
      "text/plain": [
       "Index(['tourney_id', 'tourney_name', 'surface', 'draw_size', 'tourney_level',\n",
       "       'tourney_date', 'match_num', 'winner_id', 'winner_seed', 'winner_entry',\n",
       "       'winner_name', 'winner_hand', 'winner_ht', 'winner_ioc', 'winner_age',\n",
       "       'loser_id', 'loser_seed', 'loser_entry', 'loser_name', 'loser_hand',\n",
       "       'loser_ht', 'loser_ioc', 'loser_age', 'score', 'best_of', 'round',\n",
       "       'minutes', 'w_ace', 'w_df', 'w_svpt', 'w_1stIn', 'w_1stWon', 'w_2ndWon',\n",
       "       'w_SvGms', 'w_bpSaved', 'w_bpFaced', 'l_ace', 'l_df', 'l_svpt',\n",
       "       'l_1stIn', 'l_1stWon', 'l_2ndWon', 'l_SvGms', 'l_bpSaved', 'l_bpFaced',\n",
       "       'winner_rank', 'winner_rank_points', 'loser_rank', 'loser_rank_points'],\n",
       "      dtype='object')"
      ]
     },
     "execution_count": 5,
     "metadata": {},
     "output_type": "execute_result"
    }
   ],
   "source": [
    "matches_df.columns"
   ]
  },
  {
   "cell_type": "code",
   "execution_count": 6,
   "metadata": {},
   "outputs": [],
   "source": [
    "new_column_names = {\n",
    "    'tourney_id': 'Tournament ID',\n",
    "    'tourney_name': 'Tournament Name',\n",
    "    'surface': 'Surface',\n",
    "    'draw_size': 'Draw Size',\n",
    "    'tourney_level': 'Tournament Level',\n",
    "    'tourney_date': 'Tournament Date',\n",
    "    'match_num': 'Match Number',\n",
    "    'winner_id': 'Winner ID',\n",
    "    'winner_seed': 'Winner Seed',\n",
    "    'winner_entry': 'Winner Entry',\n",
    "    'winner_name': 'Winner Name',\n",
    "    'winner_hand': 'Winner Hand',\n",
    "    'winner_ht': 'Winner Height',\n",
    "    'winner_ioc': 'Winner Country',\n",
    "    'winner_age': 'Winner Age',\n",
    "    'loser_id': 'Loser ID',\n",
    "    'loser_seed': 'Loser Seed',\n",
    "    'loser_entry': 'Loser Entry',\n",
    "    'loser_name': 'Loser Name',\n",
    "    'loser_hand': 'Loser Hand',\n",
    "    'loser_ht': 'Loser Height',\n",
    "    'loser_ioc': 'Loser Country',\n",
    "    'loser_age': 'Loser Age',\n",
    "    'score': 'Score',\n",
    "    'best_of': 'Best of',\n",
    "    'round': 'Round',\n",
    "    'minutes': 'Minutes',\n",
    "    'w_ace': 'Winner Aces',\n",
    "    'w_df': 'Winner Double Faults',\n",
    "    'w_svpt': 'Winner Serve Points',\n",
    "    'w_1stIn': 'Winner First Serves In',\n",
    "    'w_1stWon': 'Winner First Serves Won',\n",
    "    'w_2ndWon': 'Winner Second Serves Won',\n",
    "    'w_SvGms': 'Winner Serve Games',\n",
    "    'w_bpSaved': 'Winner Break Points Saved',\n",
    "    'w_bpFaced': 'Winner Break Points Faced',\n",
    "    'l_ace': 'Loser Aces',\n",
    "    'l_df': 'Loser Double Faults',\n",
    "    'l_svpt': 'Loser Serve Points',\n",
    "    'l_1stIn': 'Loser First Serves In',\n",
    "    'l_1stWon': 'Loser First Serves Won',\n",
    "    'l_2ndWon': 'Loser Second Serves Won',\n",
    "    'l_SvGms': 'Loser Serve Games',\n",
    "    'l_bpSaved': 'Loser Break Points Saved',\n",
    "    'l_bpFaced': 'Loser Break Points Faced',\n",
    "    'winner_rank': 'Winner Rank',\n",
    "    'winner_rank_points': 'Winner Rank Points',\n",
    "    'loser_rank': 'Loser Rank',\n",
    "    'loser_rank_points': 'Loser Rank Points'\n",
    "}\n",
    "\n",
    "matches_df.rename(columns=new_column_names, inplace=True)"
   ]
  },
  {
   "cell_type": "code",
   "execution_count": 7,
   "metadata": {},
   "outputs": [],
   "source": [
    "matches_df.dropna(subset=[\"Winner Name\", \"Loser Name\", \"Score\", \"Tournament Date\"], inplace=True)\n",
    "matches_df.drop(columns=[\"Tournament Level\", \"Winner Hand\", \"Loser Hand\", \"Loser Rank Points\",\n",
    "                         \"Winner Rank Points\", \"Winner Country\", \"Loser Country\", \"Draw Size\", \"Tournament ID\",\n",
    "                         \"Winner Entry\", \"Loser Entry\", \"Match Number\", \"Best of\"\n",
    "                         ,\"Winner Seed\", \"Loser Seed\"], inplace=True)"
   ]
  },
  {
   "cell_type": "code",
   "execution_count": 8,
   "metadata": {},
   "outputs": [],
   "source": [
    "rankings_df = pd.read_csv(os.path.join(dir_path, \"atp_rankings_00s.csv\"))\n",
    "\n",
    "for year in range(0, 3):\n",
    "    rankings_df = pd.concat([rankings_df, pd.read_csv(os.path.join(dir_path, f\"atp_rankings_{year}0s.csv\"))])\n",
    "rankings_df = pd.concat([rankings_df, pd.read_csv(os.path.join(dir_path, \"atp_rankings_current.csv\"))])"
   ]
  },
  {
   "cell_type": "code",
   "execution_count": 9,
   "metadata": {},
   "outputs": [
    {
     "data": {
      "text/plain": [
       "Index(['ranking_date', 'rank', 'player', 'points'], dtype='object')"
      ]
     },
     "execution_count": 9,
     "metadata": {},
     "output_type": "execute_result"
    }
   ],
   "source": [
    "rankings_df.columns"
   ]
  },
  {
   "cell_type": "code",
   "execution_count": 10,
   "metadata": {},
   "outputs": [],
   "source": [
    "players_df = pd.read_csv(os.path.join(dir_path, \"atp_players.csv\"))\n",
    "players_df['full_name'] = players_df['name_first'] + ' ' + players_df['name_last']\n",
    "players_df.drop(columns=[\"name_first\", \"name_last\"], inplace=True)"
   ]
  },
  {
   "cell_type": "code",
   "execution_count": 11,
   "metadata": {},
   "outputs": [],
   "source": [
    "rankings_df = pd.merge(rankings_df, players_df, left_on='player', right_on=\"player_id\", how='left')"
   ]
  },
  {
   "cell_type": "code",
   "execution_count": 11,
   "metadata": {},
   "outputs": [
    {
     "data": {
      "text/html": [
       "<div>\n",
       "<style scoped>\n",
       "    .dataframe tbody tr th:only-of-type {\n",
       "        vertical-align: middle;\n",
       "    }\n",
       "\n",
       "    .dataframe tbody tr th {\n",
       "        vertical-align: top;\n",
       "    }\n",
       "\n",
       "    .dataframe thead th {\n",
       "        text-align: right;\n",
       "    }\n",
       "</style>\n",
       "<table border=\"1\" class=\"dataframe\">\n",
       "  <thead>\n",
       "    <tr style=\"text-align: right;\">\n",
       "      <th></th>\n",
       "      <th>ranking_date</th>\n",
       "      <th>rank</th>\n",
       "      <th>player</th>\n",
       "      <th>points</th>\n",
       "      <th>player_id</th>\n",
       "      <th>hand</th>\n",
       "      <th>dob</th>\n",
       "      <th>ioc</th>\n",
       "      <th>height</th>\n",
       "      <th>wikidata_id</th>\n",
       "      <th>full_name</th>\n",
       "    </tr>\n",
       "  </thead>\n",
       "  <tbody>\n",
       "    <tr>\n",
       "      <th>0</th>\n",
       "      <td>20000110</td>\n",
       "      <td>1</td>\n",
       "      <td>101736</td>\n",
       "      <td>4135.0</td>\n",
       "      <td>101736</td>\n",
       "      <td>R</td>\n",
       "      <td>19700429.0</td>\n",
       "      <td>USA</td>\n",
       "      <td>180.0</td>\n",
       "      <td>Q7407</td>\n",
       "      <td>Andre Agassi</td>\n",
       "    </tr>\n",
       "    <tr>\n",
       "      <th>1</th>\n",
       "      <td>20000110</td>\n",
       "      <td>2</td>\n",
       "      <td>102338</td>\n",
       "      <td>2915.0</td>\n",
       "      <td>102338</td>\n",
       "      <td>R</td>\n",
       "      <td>19740218.0</td>\n",
       "      <td>RUS</td>\n",
       "      <td>190.0</td>\n",
       "      <td>Q207705</td>\n",
       "      <td>Yevgeny Kafelnikov</td>\n",
       "    </tr>\n",
       "    <tr>\n",
       "      <th>2</th>\n",
       "      <td>20000110</td>\n",
       "      <td>3</td>\n",
       "      <td>101948</td>\n",
       "      <td>2419.0</td>\n",
       "      <td>101948</td>\n",
       "      <td>R</td>\n",
       "      <td>19710812.0</td>\n",
       "      <td>USA</td>\n",
       "      <td>185.0</td>\n",
       "      <td>Q9446</td>\n",
       "      <td>Pete Sampras</td>\n",
       "    </tr>\n",
       "    <tr>\n",
       "      <th>3</th>\n",
       "      <td>20000110</td>\n",
       "      <td>4</td>\n",
       "      <td>103017</td>\n",
       "      <td>2184.0</td>\n",
       "      <td>103017</td>\n",
       "      <td>R</td>\n",
       "      <td>19770705.0</td>\n",
       "      <td>GER</td>\n",
       "      <td>183.0</td>\n",
       "      <td>Q76778</td>\n",
       "      <td>Nicolas Kiefer</td>\n",
       "    </tr>\n",
       "    <tr>\n",
       "      <th>4</th>\n",
       "      <td>20000110</td>\n",
       "      <td>5</td>\n",
       "      <td>102856</td>\n",
       "      <td>2169.0</td>\n",
       "      <td>102856</td>\n",
       "      <td>R</td>\n",
       "      <td>19760910.0</td>\n",
       "      <td>BRA</td>\n",
       "      <td>190.0</td>\n",
       "      <td>Q190723</td>\n",
       "      <td>Gustavo Kuerten</td>\n",
       "    </tr>\n",
       "  </tbody>\n",
       "</table>\n",
       "</div>"
      ],
      "text/plain": [
       "   ranking_date  rank  player  points  player_id hand         dob  ioc  \\\n",
       "0      20000110     1  101736  4135.0     101736    R  19700429.0  USA   \n",
       "1      20000110     2  102338  2915.0     102338    R  19740218.0  RUS   \n",
       "2      20000110     3  101948  2419.0     101948    R  19710812.0  USA   \n",
       "3      20000110     4  103017  2184.0     103017    R  19770705.0  GER   \n",
       "4      20000110     5  102856  2169.0     102856    R  19760910.0  BRA   \n",
       "\n",
       "   height wikidata_id           full_name  \n",
       "0   180.0       Q7407        Andre Agassi  \n",
       "1   190.0     Q207705  Yevgeny Kafelnikov  \n",
       "2   185.0       Q9446        Pete Sampras  \n",
       "3   183.0      Q76778      Nicolas Kiefer  \n",
       "4   190.0     Q190723     Gustavo Kuerten  "
      ]
     },
     "execution_count": 11,
     "metadata": {},
     "output_type": "execute_result"
    }
   ],
   "source": [
    "rankings_df.head()"
   ]
  },
  {
   "cell_type": "code",
   "execution_count": 12,
   "metadata": {},
   "outputs": [],
   "source": [
    "rankings_df.drop(columns=[\"player\", \"wikidata_id\"], inplace=True)"
   ]
  },
  {
   "cell_type": "code",
   "execution_count": 13,
   "metadata": {},
   "outputs": [],
   "source": [
    "def format_date(date):\n",
    "    date = str(date)\n",
    "    date = date[:4] + '-' + date[4:6] + '-' + date[6:]\n",
    "    return date\n",
    "\n",
    "rankings_df[\"ranking_date\"] = rankings_df[\"ranking_date\"].apply(lambda x: format_date(x))"
   ]
  },
  {
   "cell_type": "code",
   "execution_count": 14,
   "metadata": {},
   "outputs": [
    {
     "data": {
      "text/html": [
       "<div>\n",
       "<style scoped>\n",
       "    .dataframe tbody tr th:only-of-type {\n",
       "        vertical-align: middle;\n",
       "    }\n",
       "\n",
       "    .dataframe tbody tr th {\n",
       "        vertical-align: top;\n",
       "    }\n",
       "\n",
       "    .dataframe thead th {\n",
       "        text-align: right;\n",
       "    }\n",
       "</style>\n",
       "<table border=\"1\" class=\"dataframe\">\n",
       "  <thead>\n",
       "    <tr style=\"text-align: right;\">\n",
       "      <th></th>\n",
       "      <th>ranking_date</th>\n",
       "      <th>rank</th>\n",
       "      <th>points</th>\n",
       "      <th>player_id</th>\n",
       "      <th>hand</th>\n",
       "      <th>dob</th>\n",
       "      <th>ioc</th>\n",
       "      <th>height</th>\n",
       "      <th>full_name</th>\n",
       "    </tr>\n",
       "  </thead>\n",
       "  <tbody>\n",
       "    <tr>\n",
       "      <th>0</th>\n",
       "      <td>2000-01-10</td>\n",
       "      <td>1</td>\n",
       "      <td>4135.0</td>\n",
       "      <td>101736</td>\n",
       "      <td>R</td>\n",
       "      <td>19700429.0</td>\n",
       "      <td>USA</td>\n",
       "      <td>180.0</td>\n",
       "      <td>Andre Agassi</td>\n",
       "    </tr>\n",
       "    <tr>\n",
       "      <th>1</th>\n",
       "      <td>2000-01-10</td>\n",
       "      <td>2</td>\n",
       "      <td>2915.0</td>\n",
       "      <td>102338</td>\n",
       "      <td>R</td>\n",
       "      <td>19740218.0</td>\n",
       "      <td>RUS</td>\n",
       "      <td>190.0</td>\n",
       "      <td>Yevgeny Kafelnikov</td>\n",
       "    </tr>\n",
       "    <tr>\n",
       "      <th>2</th>\n",
       "      <td>2000-01-10</td>\n",
       "      <td>3</td>\n",
       "      <td>2419.0</td>\n",
       "      <td>101948</td>\n",
       "      <td>R</td>\n",
       "      <td>19710812.0</td>\n",
       "      <td>USA</td>\n",
       "      <td>185.0</td>\n",
       "      <td>Pete Sampras</td>\n",
       "    </tr>\n",
       "    <tr>\n",
       "      <th>3</th>\n",
       "      <td>2000-01-10</td>\n",
       "      <td>4</td>\n",
       "      <td>2184.0</td>\n",
       "      <td>103017</td>\n",
       "      <td>R</td>\n",
       "      <td>19770705.0</td>\n",
       "      <td>GER</td>\n",
       "      <td>183.0</td>\n",
       "      <td>Nicolas Kiefer</td>\n",
       "    </tr>\n",
       "    <tr>\n",
       "      <th>4</th>\n",
       "      <td>2000-01-10</td>\n",
       "      <td>5</td>\n",
       "      <td>2169.0</td>\n",
       "      <td>102856</td>\n",
       "      <td>R</td>\n",
       "      <td>19760910.0</td>\n",
       "      <td>BRA</td>\n",
       "      <td>190.0</td>\n",
       "      <td>Gustavo Kuerten</td>\n",
       "    </tr>\n",
       "  </tbody>\n",
       "</table>\n",
       "</div>"
      ],
      "text/plain": [
       "  ranking_date  rank  points  player_id hand         dob  ioc  height  \\\n",
       "0   2000-01-10     1  4135.0     101736    R  19700429.0  USA   180.0   \n",
       "1   2000-01-10     2  2915.0     102338    R  19740218.0  RUS   190.0   \n",
       "2   2000-01-10     3  2419.0     101948    R  19710812.0  USA   185.0   \n",
       "3   2000-01-10     4  2184.0     103017    R  19770705.0  GER   183.0   \n",
       "4   2000-01-10     5  2169.0     102856    R  19760910.0  BRA   190.0   \n",
       "\n",
       "            full_name  \n",
       "0        Andre Agassi  \n",
       "1  Yevgeny Kafelnikov  \n",
       "2        Pete Sampras  \n",
       "3      Nicolas Kiefer  \n",
       "4     Gustavo Kuerten  "
      ]
     },
     "execution_count": 14,
     "metadata": {},
     "output_type": "execute_result"
    }
   ],
   "source": [
    "rankings_df.head()"
   ]
  },
  {
   "cell_type": "code",
   "execution_count": 15,
   "metadata": {},
   "outputs": [
    {
     "data": {
      "text/html": [
       "<div>\n",
       "<style scoped>\n",
       "    .dataframe tbody tr th:only-of-type {\n",
       "        vertical-align: middle;\n",
       "    }\n",
       "\n",
       "    .dataframe tbody tr th {\n",
       "        vertical-align: top;\n",
       "    }\n",
       "\n",
       "    .dataframe thead th {\n",
       "        text-align: right;\n",
       "    }\n",
       "</style>\n",
       "<table border=\"1\" class=\"dataframe\">\n",
       "  <thead>\n",
       "    <tr style=\"text-align: right;\">\n",
       "      <th></th>\n",
       "      <th>Tournament Name</th>\n",
       "      <th>Surface</th>\n",
       "      <th>Tournament Date</th>\n",
       "      <th>Winner ID</th>\n",
       "      <th>Winner Name</th>\n",
       "      <th>Winner Height</th>\n",
       "      <th>Winner Age</th>\n",
       "      <th>Loser ID</th>\n",
       "      <th>Loser Name</th>\n",
       "      <th>Loser Height</th>\n",
       "      <th>...</th>\n",
       "      <th>Loser Double Faults</th>\n",
       "      <th>Loser Serve Points</th>\n",
       "      <th>Loser First Serves In</th>\n",
       "      <th>Loser First Serves Won</th>\n",
       "      <th>Loser Second Serves Won</th>\n",
       "      <th>Loser Serve Games</th>\n",
       "      <th>Loser Break Points Saved</th>\n",
       "      <th>Loser Break Points Faced</th>\n",
       "      <th>Winner Rank</th>\n",
       "      <th>Loser Rank</th>\n",
       "    </tr>\n",
       "  </thead>\n",
       "  <tbody>\n",
       "    <tr>\n",
       "      <th>0</th>\n",
       "      <td>Auckland</td>\n",
       "      <td>Hard</td>\n",
       "      <td>20010108</td>\n",
       "      <td>102905</td>\n",
       "      <td>Stefan Koubek</td>\n",
       "      <td>175.0</td>\n",
       "      <td>24.0</td>\n",
       "      <td>102644</td>\n",
       "      <td>Franco Squillari</td>\n",
       "      <td>183.0</td>\n",
       "      <td>...</td>\n",
       "      <td>5.0</td>\n",
       "      <td>66.0</td>\n",
       "      <td>31.0</td>\n",
       "      <td>19.0</td>\n",
       "      <td>15.0</td>\n",
       "      <td>10.0</td>\n",
       "      <td>4.0</td>\n",
       "      <td>8.0</td>\n",
       "      <td>52.0</td>\n",
       "      <td>14.0</td>\n",
       "    </tr>\n",
       "    <tr>\n",
       "      <th>1</th>\n",
       "      <td>Auckland</td>\n",
       "      <td>Hard</td>\n",
       "      <td>20010108</td>\n",
       "      <td>102231</td>\n",
       "      <td>Alex Calatrava</td>\n",
       "      <td>190.0</td>\n",
       "      <td>27.5</td>\n",
       "      <td>102860</td>\n",
       "      <td>Agustin Calleri</td>\n",
       "      <td>183.0</td>\n",
       "      <td>...</td>\n",
       "      <td>3.0</td>\n",
       "      <td>63.0</td>\n",
       "      <td>37.0</td>\n",
       "      <td>33.0</td>\n",
       "      <td>11.0</td>\n",
       "      <td>12.0</td>\n",
       "      <td>1.0</td>\n",
       "      <td>3.0</td>\n",
       "      <td>53.0</td>\n",
       "      <td>64.0</td>\n",
       "    </tr>\n",
       "    <tr>\n",
       "      <th>2</th>\n",
       "      <td>Auckland</td>\n",
       "      <td>Hard</td>\n",
       "      <td>20010108</td>\n",
       "      <td>102257</td>\n",
       "      <td>Greg Rusedski</td>\n",
       "      <td>193.0</td>\n",
       "      <td>27.3</td>\n",
       "      <td>103066</td>\n",
       "      <td>Mark Nielsen</td>\n",
       "      <td>185.0</td>\n",
       "      <td>...</td>\n",
       "      <td>5.0</td>\n",
       "      <td>72.0</td>\n",
       "      <td>45.0</td>\n",
       "      <td>31.0</td>\n",
       "      <td>12.0</td>\n",
       "      <td>10.0</td>\n",
       "      <td>4.0</td>\n",
       "      <td>6.0</td>\n",
       "      <td>73.0</td>\n",
       "      <td>260.0</td>\n",
       "    </tr>\n",
       "    <tr>\n",
       "      <th>3</th>\n",
       "      <td>Auckland</td>\n",
       "      <td>Hard</td>\n",
       "      <td>20010108</td>\n",
       "      <td>101647</td>\n",
       "      <td>Byron Black</td>\n",
       "      <td>175.0</td>\n",
       "      <td>31.2</td>\n",
       "      <td>102287</td>\n",
       "      <td>Albert Portas</td>\n",
       "      <td>188.0</td>\n",
       "      <td>...</td>\n",
       "      <td>0.0</td>\n",
       "      <td>69.0</td>\n",
       "      <td>35.0</td>\n",
       "      <td>31.0</td>\n",
       "      <td>11.0</td>\n",
       "      <td>13.0</td>\n",
       "      <td>3.0</td>\n",
       "      <td>7.0</td>\n",
       "      <td>35.0</td>\n",
       "      <td>49.0</td>\n",
       "    </tr>\n",
       "    <tr>\n",
       "      <th>4</th>\n",
       "      <td>Auckland</td>\n",
       "      <td>Hard</td>\n",
       "      <td>20010108</td>\n",
       "      <td>102998</td>\n",
       "      <td>Jan Michael Gambill</td>\n",
       "      <td>190.0</td>\n",
       "      <td>23.6</td>\n",
       "      <td>103454</td>\n",
       "      <td>Nicolas Massu</td>\n",
       "      <td>183.0</td>\n",
       "      <td>...</td>\n",
       "      <td>6.0</td>\n",
       "      <td>81.0</td>\n",
       "      <td>40.0</td>\n",
       "      <td>27.0</td>\n",
       "      <td>15.0</td>\n",
       "      <td>11.0</td>\n",
       "      <td>5.0</td>\n",
       "      <td>9.0</td>\n",
       "      <td>33.0</td>\n",
       "      <td>67.0</td>\n",
       "    </tr>\n",
       "  </tbody>\n",
       "</table>\n",
       "<p>5 rows × 34 columns</p>\n",
       "</div>"
      ],
      "text/plain": [
       "  Tournament Name Surface  Tournament Date  Winner ID          Winner Name  \\\n",
       "0        Auckland    Hard         20010108     102905        Stefan Koubek   \n",
       "1        Auckland    Hard         20010108     102231       Alex Calatrava   \n",
       "2        Auckland    Hard         20010108     102257        Greg Rusedski   \n",
       "3        Auckland    Hard         20010108     101647          Byron Black   \n",
       "4        Auckland    Hard         20010108     102998  Jan Michael Gambill   \n",
       "\n",
       "   Winner Height  Winner Age  Loser ID        Loser Name  Loser Height  ...  \\\n",
       "0          175.0        24.0    102644  Franco Squillari         183.0  ...   \n",
       "1          190.0        27.5    102860   Agustin Calleri         183.0  ...   \n",
       "2          193.0        27.3    103066      Mark Nielsen         185.0  ...   \n",
       "3          175.0        31.2    102287     Albert Portas         188.0  ...   \n",
       "4          190.0        23.6    103454     Nicolas Massu         183.0  ...   \n",
       "\n",
       "   Loser Double Faults Loser Serve Points Loser First Serves In  \\\n",
       "0                  5.0               66.0                  31.0   \n",
       "1                  3.0               63.0                  37.0   \n",
       "2                  5.0               72.0                  45.0   \n",
       "3                  0.0               69.0                  35.0   \n",
       "4                  6.0               81.0                  40.0   \n",
       "\n",
       "   Loser First Serves Won  Loser Second Serves Won  Loser Serve Games  \\\n",
       "0                    19.0                     15.0               10.0   \n",
       "1                    33.0                     11.0               12.0   \n",
       "2                    31.0                     12.0               10.0   \n",
       "3                    31.0                     11.0               13.0   \n",
       "4                    27.0                     15.0               11.0   \n",
       "\n",
       "   Loser Break Points Saved  Loser Break Points Faced  Winner Rank  Loser Rank  \n",
       "0                       4.0                       8.0         52.0        14.0  \n",
       "1                       1.0                       3.0         53.0        64.0  \n",
       "2                       4.0                       6.0         73.0       260.0  \n",
       "3                       3.0                       7.0         35.0        49.0  \n",
       "4                       5.0                       9.0         33.0        67.0  \n",
       "\n",
       "[5 rows x 34 columns]"
      ]
     },
     "execution_count": 15,
     "metadata": {},
     "output_type": "execute_result"
    }
   ],
   "source": [
    "matches_df.head()"
   ]
  },
  {
   "cell_type": "code",
   "execution_count": 14,
   "metadata": {},
   "outputs": [
    {
     "data": {
      "text/plain": [
       "Index(['Tournament Name', 'Surface', 'Tournament Date', 'Winner ID',\n",
       "       'Winner Name', 'Winner Height', 'Winner Age', 'Loser ID', 'Loser Name',\n",
       "       'Loser Height', 'Loser Age', 'Score', 'Round', 'Minutes', 'Winner Aces',\n",
       "       'Winner Double Faults', 'Winner Serve Points', 'Winner First Serves In',\n",
       "       'Winner First Serves Won', 'Winner Second Serves Won',\n",
       "       'Winner Serve Games', 'Winner Break Points Saved',\n",
       "       'Winner Break Points Faced', 'Loser Aces', 'Loser Double Faults',\n",
       "       'Loser Serve Points', 'Loser First Serves In', 'Loser First Serves Won',\n",
       "       'Loser Second Serves Won', 'Loser Serve Games',\n",
       "       'Loser Break Points Saved', 'Loser Break Points Faced', 'Winner Rank',\n",
       "       'Loser Rank'],\n",
       "      dtype='object')"
      ]
     },
     "execution_count": 14,
     "metadata": {},
     "output_type": "execute_result"
    }
   ],
   "source": [
    "matches_df.columns"
   ]
  },
  {
   "cell_type": "code",
   "execution_count": 17,
   "metadata": {},
   "outputs": [
    {
     "name": "stdout",
     "output_type": "stream",
     "text": [
      "['Surface', 'Winner Height', 'Winner Age', 'Loser Height', 'Loser Age', 'Minutes', 'Winner Aces', 'Winner Double Faults', 'Winner Serve Points', 'Winner First Serves In', 'Winner First Serves Won', 'Winner Second Serves Won', 'Winner Serve Games', 'Winner Break Points Saved', 'Winner Break Points Faced', 'Loser Aces', 'Loser Double Faults', 'Loser Serve Points', 'Loser First Serves In', 'Loser First Serves Won', 'Loser Second Serves Won', 'Loser Serve Games', 'Loser Break Points Saved', 'Loser Break Points Faced', 'Winner Rank', 'Loser Rank']\n"
     ]
    }
   ],
   "source": [
    "columns_with_nan = matches_df.columns[matches_df.isnull().any()].tolist()\n",
    "print(columns_with_nan)"
   ]
  },
  {
   "cell_type": "code",
   "execution_count": 18,
   "metadata": {},
   "outputs": [],
   "source": [
    "# MAP NAMES TO UNIQUE PLAYER EMBEDDINGS"
   ]
  },
  {
   "cell_type": "code",
   "execution_count": 19,
   "metadata": {},
   "outputs": [],
   "source": [
    "# NAMED ENTITY RECOGNITION - STANZA \n",
    "\n",
    "mat"
   ]
  },
  {
   "cell_type": "code",
   "execution_count": 15,
   "metadata": {},
   "outputs": [],
   "source": [
    "# TURN THE MATCH DATA INTO SENTENCES FOR THE SIMILARITY SEARCH \n",
    "\n",
    "def turn_features_into_sentence(row):\n",
    "    sentence = (f\"{row['Winner Name']} won against {row['Loser Name']} on {row['Surface']} in the {row['Tournament Name']} on {row['Tournament Date']} with a score of {row['Score']}. {row['Winner Name']} served {row['Winner Aces']} aces and committed {row['Winner Double Faults']} double faults, winning {row['Winner Serve Points']} serve points and saving {row['Winner Break Points Saved']} out of {row['Winner Break Points Faced']} break points. {row['Loser Name']} served {row['Loser Aces']} aces and committed {row['Loser Double Faults']} double faults. {row['Winner Name']} ranked {row['Winner Rank']} defeated {row['Loser Name']}, ranked {row['Loser Rank']}.\")\n",
    "    return sentence\n",
    "\n",
    "matches_df[\"Sentence\"] = matches_df.apply(lambda x: turn_features_into_sentence(x), axis=1)\n",
    "    "
   ]
  },
  {
   "cell_type": "code",
   "execution_count": 20,
   "metadata": {},
   "outputs": [],
   "source": [
    "from sklearn.preprocessing import OneHotEncoder\n",
    "\n",
    "categorical_columns = ['Tournament Name', 'Surface', 'Score', \"Winner Name\", \"Loser Name\"]\n",
    "encoder = OneHotEncoder(sparse_output=False)\n",
    "matches_df[categorical_columns] = matches_df[categorical_columns].fillna('Missing')\n",
    "encoded_categorical = encoder.fit_transform(matches_df[categorical_columns])"
   ]
  },
  {
   "cell_type": "code",
   "execution_count": 21,
   "metadata": {},
   "outputs": [],
   "source": [
    "from sklearn.preprocessing import StandardScaler\n",
    "\n",
    "numerical_columns = ['Winner Height', 'Loser Height', 'Winner Age', 'Loser Age', 'Minutes',\n",
    "                     'Winner Aces', 'Loser Aces', 'Winner Double Faults', 'Loser Double Faults',\n",
    "                     'Winner Serve Points', 'Loser Serve Points', 'Winner Rank', 'Loser Rank']\n",
    "matches_df[numerical_columns] = matches_df[numerical_columns].fillna(matches_df[numerical_columns].mean())\n",
    "scaler = StandardScaler()\n",
    "scaled_numerical = scaler.fit_transform(matches_df[numerical_columns])"
   ]
  },
  {
   "cell_type": "code",
   "execution_count": 22,
   "metadata": {},
   "outputs": [],
   "source": [
    "combined_features = np.hstack((scaled_numerical, encoded_categorical)) #stacking features horizontally"
   ]
  },
  {
   "cell_type": "code",
   "execution_count": 23,
   "metadata": {},
   "outputs": [
    {
     "data": {
      "text/plain": [
       "array([[-1.67083988, -0.40855757, -0.58966212, ...,  0.        ,\n",
       "         0.        ,  0.        ],\n",
       "       [ 0.55892142, -0.40855757,  0.28909893, ...,  0.        ,\n",
       "         0.        ,  0.        ],\n",
       "       [ 1.00487367, -0.10556441,  0.23888401, ...,  0.        ,\n",
       "         0.        ,  0.        ],\n",
       "       ...,\n",
       "       [ 0.        , -0.40855757,  0.23888401, ...,  0.        ,\n",
       "         0.        ,  0.        ],\n",
       "       [ 0.        ,  0.        ,  0.13845418, ...,  0.        ,\n",
       "         0.        ,  0.        ],\n",
       "       [ 0.        , -0.40855757, -0.79052179, ...,  0.        ,\n",
       "         0.        ,  0.        ]])"
      ]
     },
     "execution_count": 23,
     "metadata": {},
     "output_type": "execute_result"
    }
   ],
   "source": [
    "combined_features"
   ]
  },
  {
   "cell_type": "code",
   "execution_count": 24,
   "metadata": {},
   "outputs": [
    {
     "name": "stdout",
     "output_type": "stream",
     "text": [
      "dimensionality of the index:  17786\n"
     ]
    },
    {
     "data": {
      "text/plain": [
       "dtype('float32')"
      ]
     },
     "execution_count": 24,
     "metadata": {},
     "output_type": "execute_result"
    }
   ],
   "source": [
    "dimension = combined_features.shape[1]\n",
    "print(\"dimensionality of the index: \", dimension)\n",
    "combined_features_f32 = combined_features.astype(\"float32\")\n",
    "combined_features_f32.dtype"
   ]
  },
  {
   "cell_type": "code",
   "execution_count": 19,
   "metadata": {},
   "outputs": [
    {
     "name": "stderr",
     "output_type": "stream",
     "text": [
      "c:\\Users\\urasa\\Desktop\\FYP\\.venv\\Lib\\site-packages\\tqdm\\auto.py:21: TqdmWarning: IProgress not found. Please update jupyter and ipywidgets. See https://ipywidgets.readthedocs.io/en/stable/user_install.html\n",
      "  from .autonotebook import tqdm as notebook_tqdm\n",
      "c:\\Users\\urasa\\Desktop\\FYP\\.venv\\Lib\\site-packages\\huggingface_hub\\file_download.py:1132: FutureWarning: `resume_download` is deprecated and will be removed in version 1.0.0. Downloads always resume when possible. If you want to force a new download, use `force_download=True`.\n",
      "  warnings.warn(\n"
     ]
    }
   ],
   "source": [
    "from transformers import BertModel, BertTokenizer\n",
    "import torch\n",
    "\n",
    "model = BertModel.from_pretrained('bert-base-uncased')\n",
    "tokenizer = BertTokenizer.from_pretrained('bert-base-uncased')"
   ]
  },
  {
   "cell_type": "code",
   "execution_count": 23,
   "metadata": {},
   "outputs": [],
   "source": [
    "def get_embeddings(sentence):\n",
    "    inputs = tokenizer(sentence, return_tensors='pt', padding=True, truncation=True)\n",
    "    with torch.no_grad():\n",
    "        outputs = model(**inputs)\n",
    "    return outputs.last_hidden_state.mean(dim=1).squeeze().numpy().astype(\"float32\") # sentence embedding by aggregating token level embeddings"
   ]
  },
  {
   "cell_type": "code",
   "execution_count": 43,
   "metadata": {},
   "outputs": [],
   "source": [
    "import torch\n",
    "from torch.utils.data import DataLoader\n",
    "\n",
    "def get_batch_embeddings(sentences, batch_size=64, max_length=128, device='cpu'):\n",
    "    model.to(device)\n",
    "    dataloader = DataLoader(sentences, batch_size=batch_size)\n",
    "    embeddings = []\n",
    "    tokenizer.add_special_tokens({'pad_token': '[PAD]'})\n",
    "\n",
    "    for batch in dataloader:\n",
    "        inputs = tokenizer(batch, return_tensors='pt', padding=True, truncation=True, max_length=max_length).to(device)\n",
    "        with torch.no_grad():\n",
    "            outputs = model(**inputs)\n",
    "        batch_embeddings = outputs.last_hidden_state.mean(dim=1).cpu().numpy().astype(\"float32\")\n",
    "        embeddings.extend(batch_embeddings)\n",
    "    \n",
    "    return np.vstack(embeddings)"
   ]
  },
  {
   "cell_type": "code",
   "execution_count": 25,
   "metadata": {},
   "outputs": [],
   "source": [
    "argument = \"of\"\n",
    "argument_embedding = get_embeddings(argument) # 1d numpy array"
   ]
  },
  {
   "cell_type": "code",
   "execution_count": 16,
   "metadata": {},
   "outputs": [],
   "source": [
    "index = faiss.IndexFlatL2(768)"
   ]
  },
  {
   "cell_type": "code",
   "execution_count": 31,
   "metadata": {},
   "outputs": [],
   "source": [
    "sentences = matches_df[\"Sentence\"].tolist()"
   ]
  },
  {
   "cell_type": "code",
   "execution_count": 45,
   "metadata": {},
   "outputs": [],
   "source": [
    "resulting_embeddings = get_batch_embeddings(sentences)\n",
    "np.save('embeddings.npy', resulting_embeddings)"
   ]
  },
  {
   "cell_type": "code",
   "execution_count": 46,
   "metadata": {},
   "outputs": [],
   "source": [
    "index.add(resulting_embeddings)"
   ]
  },
  {
   "cell_type": "code",
   "execution_count": 28,
   "metadata": {},
   "outputs": [
    {
     "ename": "MemoryError",
     "evalue": "Unable to allocate 4.63 GiB for an array with shape (69869, 17786) and data type float32",
     "output_type": "error",
     "traceback": [
      "\u001b[1;31m---------------------------------------------------------------------------\u001b[0m",
      "\u001b[1;31mMemoryError\u001b[0m                               Traceback (most recent call last)",
      "Cell \u001b[1;32mIn[28], line 4\u001b[0m\n\u001b[0;32m      1\u001b[0m \u001b[38;5;28;01mfrom\u001b[39;00m \u001b[38;5;21;01msklearn\u001b[39;00m\u001b[38;5;21;01m.\u001b[39;00m\u001b[38;5;21;01mdecomposition\u001b[39;00m \u001b[38;5;28;01mimport\u001b[39;00m PCA\n\u001b[0;32m      3\u001b[0m pca \u001b[38;5;241m=\u001b[39m PCA(n_components\u001b[38;5;241m=\u001b[39membedding_dimension)\n\u001b[1;32m----> 4\u001b[0m \u001b[43mpca\u001b[49m\u001b[38;5;241;43m.\u001b[39;49m\u001b[43mfit\u001b[49m\u001b[43m(\u001b[49m\u001b[43mcombined_features_f32\u001b[49m\u001b[43m)\u001b[49m\n\u001b[0;32m      5\u001b[0m reduced_combined_features_f32 \u001b[38;5;241m=\u001b[39m pca\u001b[38;5;241m.\u001b[39mtransform(combined_features_f32) \u001b[38;5;66;03m# well actually kinda increased, i am getting very confused\u001b[39;00m\n",
      "File \u001b[1;32mc:\\Users\\urasa\\Desktop\\FYP\\.venv\\Lib\\site-packages\\sklearn\\base.py:1473\u001b[0m, in \u001b[0;36m_fit_context.<locals>.decorator.<locals>.wrapper\u001b[1;34m(estimator, *args, **kwargs)\u001b[0m\n\u001b[0;32m   1466\u001b[0m     estimator\u001b[38;5;241m.\u001b[39m_validate_params()\n\u001b[0;32m   1468\u001b[0m \u001b[38;5;28;01mwith\u001b[39;00m config_context(\n\u001b[0;32m   1469\u001b[0m     skip_parameter_validation\u001b[38;5;241m=\u001b[39m(\n\u001b[0;32m   1470\u001b[0m         prefer_skip_nested_validation \u001b[38;5;129;01mor\u001b[39;00m global_skip_validation\n\u001b[0;32m   1471\u001b[0m     )\n\u001b[0;32m   1472\u001b[0m ):\n\u001b[1;32m-> 1473\u001b[0m     \u001b[38;5;28;01mreturn\u001b[39;00m \u001b[43mfit_method\u001b[49m\u001b[43m(\u001b[49m\u001b[43mestimator\u001b[49m\u001b[43m,\u001b[49m\u001b[43m \u001b[49m\u001b[38;5;241;43m*\u001b[39;49m\u001b[43margs\u001b[49m\u001b[43m,\u001b[49m\u001b[43m \u001b[49m\u001b[38;5;241;43m*\u001b[39;49m\u001b[38;5;241;43m*\u001b[39;49m\u001b[43mkwargs\u001b[49m\u001b[43m)\u001b[49m\n",
      "File \u001b[1;32mc:\\Users\\urasa\\Desktop\\FYP\\.venv\\Lib\\site-packages\\sklearn\\decomposition\\_pca.py:448\u001b[0m, in \u001b[0;36mPCA.fit\u001b[1;34m(self, X, y)\u001b[0m\n\u001b[0;32m    430\u001b[0m \u001b[38;5;129m@_fit_context\u001b[39m(prefer_skip_nested_validation\u001b[38;5;241m=\u001b[39m\u001b[38;5;28;01mTrue\u001b[39;00m)\n\u001b[0;32m    431\u001b[0m \u001b[38;5;28;01mdef\u001b[39;00m \u001b[38;5;21mfit\u001b[39m(\u001b[38;5;28mself\u001b[39m, X, y\u001b[38;5;241m=\u001b[39m\u001b[38;5;28;01mNone\u001b[39;00m):\n\u001b[0;32m    432\u001b[0m \u001b[38;5;250m    \u001b[39m\u001b[38;5;124;03m\"\"\"Fit the model with X.\u001b[39;00m\n\u001b[0;32m    433\u001b[0m \n\u001b[0;32m    434\u001b[0m \u001b[38;5;124;03m    Parameters\u001b[39;00m\n\u001b[1;32m   (...)\u001b[0m\n\u001b[0;32m    446\u001b[0m \u001b[38;5;124;03m        Returns the instance itself.\u001b[39;00m\n\u001b[0;32m    447\u001b[0m \u001b[38;5;124;03m    \"\"\"\u001b[39;00m\n\u001b[1;32m--> 448\u001b[0m     \u001b[38;5;28;43mself\u001b[39;49m\u001b[38;5;241;43m.\u001b[39;49m\u001b[43m_fit\u001b[49m\u001b[43m(\u001b[49m\u001b[43mX\u001b[49m\u001b[43m)\u001b[49m\n\u001b[0;32m    449\u001b[0m     \u001b[38;5;28;01mreturn\u001b[39;00m \u001b[38;5;28mself\u001b[39m\n",
      "File \u001b[1;32mc:\\Users\\urasa\\Desktop\\FYP\\.venv\\Lib\\site-packages\\sklearn\\decomposition\\_pca.py:549\u001b[0m, in \u001b[0;36mPCA._fit\u001b[1;34m(self, X)\u001b[0m\n\u001b[0;32m    547\u001b[0m     \u001b[38;5;28;01mreturn\u001b[39;00m \u001b[38;5;28mself\u001b[39m\u001b[38;5;241m.\u001b[39m_fit_full(X, n_components, xp, is_array_api_compliant)\n\u001b[0;32m    548\u001b[0m \u001b[38;5;28;01melif\u001b[39;00m \u001b[38;5;28mself\u001b[39m\u001b[38;5;241m.\u001b[39m_fit_svd_solver \u001b[38;5;129;01min\u001b[39;00m [\u001b[38;5;124m\"\u001b[39m\u001b[38;5;124marpack\u001b[39m\u001b[38;5;124m\"\u001b[39m, \u001b[38;5;124m\"\u001b[39m\u001b[38;5;124mrandomized\u001b[39m\u001b[38;5;124m\"\u001b[39m]:\n\u001b[1;32m--> 549\u001b[0m     \u001b[38;5;28;01mreturn\u001b[39;00m \u001b[38;5;28;43mself\u001b[39;49m\u001b[38;5;241;43m.\u001b[39;49m\u001b[43m_fit_truncated\u001b[49m\u001b[43m(\u001b[49m\u001b[43mX\u001b[49m\u001b[43m,\u001b[49m\u001b[43m \u001b[49m\u001b[43mn_components\u001b[49m\u001b[43m,\u001b[49m\u001b[43m \u001b[49m\u001b[43mxp\u001b[49m\u001b[43m)\u001b[49m\n",
      "File \u001b[1;32mc:\\Users\\urasa\\Desktop\\FYP\\.venv\\Lib\\site-packages\\sklearn\\decomposition\\_pca.py:749\u001b[0m, in \u001b[0;36mPCA._fit_truncated\u001b[1;34m(self, X, n_components, xp)\u001b[0m\n\u001b[0;32m    747\u001b[0m \u001b[38;5;28;01melse\u001b[39;00m:\n\u001b[0;32m    748\u001b[0m     \u001b[38;5;28mself\u001b[39m\u001b[38;5;241m.\u001b[39mmean_ \u001b[38;5;241m=\u001b[39m xp\u001b[38;5;241m.\u001b[39mmean(X, axis\u001b[38;5;241m=\u001b[39m\u001b[38;5;241m0\u001b[39m)\n\u001b[1;32m--> 749\u001b[0m     X_centered \u001b[38;5;241m=\u001b[39m \u001b[43mxp\u001b[49m\u001b[38;5;241;43m.\u001b[39;49m\u001b[43masarray\u001b[49m\u001b[43m(\u001b[49m\u001b[43mX\u001b[49m\u001b[43m,\u001b[49m\u001b[43m \u001b[49m\u001b[43mcopy\u001b[49m\u001b[38;5;241;43m=\u001b[39;49m\u001b[38;5;28;43;01mTrue\u001b[39;49;00m\u001b[43m)\u001b[49m \u001b[38;5;28;01mif\u001b[39;00m \u001b[38;5;28mself\u001b[39m\u001b[38;5;241m.\u001b[39mcopy \u001b[38;5;28;01melse\u001b[39;00m X\n\u001b[0;32m    750\u001b[0m     X_centered \u001b[38;5;241m-\u001b[39m\u001b[38;5;241m=\u001b[39m \u001b[38;5;28mself\u001b[39m\u001b[38;5;241m.\u001b[39mmean_\n\u001b[0;32m    751\u001b[0m     x_is_centered \u001b[38;5;241m=\u001b[39m \u001b[38;5;129;01mnot\u001b[39;00m \u001b[38;5;28mself\u001b[39m\u001b[38;5;241m.\u001b[39mcopy\n",
      "File \u001b[1;32mc:\\Users\\urasa\\Desktop\\FYP\\.venv\\Lib\\site-packages\\sklearn\\utils\\_array_api.py:396\u001b[0m, in \u001b[0;36m_NumPyAPIWrapper.asarray\u001b[1;34m(self, x, dtype, device, copy)\u001b[0m\n\u001b[0;32m    394\u001b[0m \u001b[38;5;66;03m# Support copy in NumPy namespace\u001b[39;00m\n\u001b[0;32m    395\u001b[0m \u001b[38;5;28;01mif\u001b[39;00m copy \u001b[38;5;129;01mis\u001b[39;00m \u001b[38;5;28;01mTrue\u001b[39;00m:\n\u001b[1;32m--> 396\u001b[0m     \u001b[38;5;28;01mreturn\u001b[39;00m \u001b[43mnumpy\u001b[49m\u001b[38;5;241;43m.\u001b[39;49m\u001b[43marray\u001b[49m\u001b[43m(\u001b[49m\u001b[43mx\u001b[49m\u001b[43m,\u001b[49m\u001b[43m \u001b[49m\u001b[43mcopy\u001b[49m\u001b[38;5;241;43m=\u001b[39;49m\u001b[38;5;28;43;01mTrue\u001b[39;49;00m\u001b[43m,\u001b[49m\u001b[43m \u001b[49m\u001b[43mdtype\u001b[49m\u001b[38;5;241;43m=\u001b[39;49m\u001b[43mdtype\u001b[49m\u001b[43m)\u001b[49m\n\u001b[0;32m    397\u001b[0m \u001b[38;5;28;01melse\u001b[39;00m:\n\u001b[0;32m    398\u001b[0m     \u001b[38;5;28;01mreturn\u001b[39;00m numpy\u001b[38;5;241m.\u001b[39masarray(x, dtype\u001b[38;5;241m=\u001b[39mdtype)\n",
      "\u001b[1;31mMemoryError\u001b[0m: Unable to allocate 4.63 GiB for an array with shape (69869, 17786) and data type float32"
     ]
    }
   ],
   "source": [
    "from sklearn.decomposition import PCA\n",
    "\n",
    "pca = PCA(n_components=embedding_dimension)\n",
    "pca.fit(combined_features_f32)\n",
    "reduced_combined_features_f32 = pca.transform(combined_features_f32) # well actually kinda increased, i am getting very confused"
   ]
  },
  {
   "cell_type": "code",
   "execution_count": null,
   "metadata": {},
   "outputs": [],
   "source": [
    "# and the vector database is built on RAM\n",
    "index.add(reduced_combined_features_f32)"
   ]
  },
  {
   "cell_type": "code",
   "execution_count": 47,
   "metadata": {},
   "outputs": [
    {
     "ename": "",
     "evalue": "",
     "output_type": "error",
     "traceback": [
      "\u001b[1;31mThe Kernel crashed while executing code in the current cell or a previous cell. \n",
      "\u001b[1;31mPlease review the code in the cell(s) to identify a possible cause of the failure. \n",
      "\u001b[1;31mClick <a href='https://aka.ms/vscodeJupyterKernelCrash'>here</a> for more info. \n",
      "\u001b[1;31mView Jupyter <a href='command:jupyter.viewOutput'>log</a> for further details."
     ]
    }
   ],
   "source": [
    "# Finally the similarity search\n",
    "D, I = index.search(argument_embedding.reshape(1, -1).astype('float32'), k=10) # -1 basically substitues 768\n",
    "print(\"Indices of similar rows:\", I)"
   ]
  },
  {
   "cell_type": "code",
   "execution_count": null,
   "metadata": {},
   "outputs": [],
   "source": [
    "matches_df.iloc[I[0]]"
   ]
  }
 ],
 "metadata": {
  "kernelspec": {
   "display_name": ".venv",
   "language": "python",
   "name": "python3"
  },
  "language_info": {
   "codemirror_mode": {
    "name": "ipython",
    "version": 3
   },
   "file_extension": ".py",
   "mimetype": "text/x-python",
   "name": "python",
   "nbconvert_exporter": "python",
   "pygments_lexer": "ipython3",
   "version": "3.12.0"
  }
 },
 "nbformat": 4,
 "nbformat_minor": 2
}
