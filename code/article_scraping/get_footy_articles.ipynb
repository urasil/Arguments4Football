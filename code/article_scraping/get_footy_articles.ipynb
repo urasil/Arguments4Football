{
 "cells": [
  {
   "cell_type": "code",
   "execution_count": 29,
   "metadata": {},
   "outputs": [
    {
     "name": "stderr",
     "output_type": "stream",
     "text": [
      "[nltk_data] Downloading package punkt to\n",
      "[nltk_data]     C:\\Users\\urasa\\AppData\\Roaming\\nltk_data...\n",
      "[nltk_data]   Package punkt is already up-to-date!\n",
      "[nltk_data] Downloading package punkt_tab to\n",
      "[nltk_data]     C:\\Users\\urasa\\AppData\\Roaming\\nltk_data...\n",
      "[nltk_data]   Unzipping tokenizers\\punkt_tab.zip.\n"
     ]
    }
   ],
   "source": [
    "from bs4 import BeautifulSoup\n",
    "import requests\n",
    "import nltk\n",
    "nltk.download('punkt')\n",
    "nltk.download('punkt_tab')\n",
    "from nltk.tokenize import sent_tokenize"
   ]
  },
  {
   "cell_type": "code",
   "execution_count": 11,
   "metadata": {},
   "outputs": [],
   "source": [
    "sample_url = \"https://www.skysports.com/football/news/11661/13228680/bukayo-saka-arsenals-mikel-arteta-hails-unbelievable-player-for-taking-another-step-up-as-arsenal-beat-southampton\"\n",
    "response = requests.get(sample_url)\n",
    "soup = BeautifulSoup(response.content, 'html.parser')"
   ]
  },
  {
   "cell_type": "code",
   "execution_count": 16,
   "metadata": {},
   "outputs": [],
   "source": [
    "RAW_TEXT = []\n",
    "ENTIRE_TEXT = []\n",
    "ARTICLE_TOPIC = None"
   ]
  },
  {
   "cell_type": "code",
   "execution_count": 17,
   "metadata": {},
   "outputs": [],
   "source": [
    "for p in soup.find_all('p'):\n",
    "    if p.has_attr('class') or p.find('strong') or p.find('em'):\n",
    "        continue  \n",
    "    text = p.get_text().strip()\n",
    "    if ARTICLE_TOPIC is None:\n",
    "        ARTICLE_TOPIC = text\n",
    "    elif len(text) > 1 and text[0] != '\\n':\n",
    "        RAW_TEXT.append(text)"
   ]
  },
  {
   "cell_type": "code",
   "execution_count": 32,
   "metadata": {},
   "outputs": [],
   "source": [
    "for text in RAW_TEXT:\n",
    "    text.replace('\\\\', '')\n",
    "    sentences = sent_tokenize(text)\n",
    "    ENTIRE_TEXT.extend(sentences)\n"
   ]
  },
  {
   "cell_type": "code",
   "execution_count": 33,
   "metadata": {},
   "outputs": [
    {
     "data": {
      "text/plain": [
       "[\"Saka set up goals for Kai Havertz and substitute Gabriel Martinelli before adding the third himself after the Gunners had fallen behind to Cameron Archer's strike at the Emirates Stadium.\",\n",
       " 'His assists took him to seven in the Premier League, the most by any player in the division, and his clinically-taken goal, converted first time after a Southampton mistake, followed his strike in the Champions League win over Paris Saint-Germain in midweek.',\n",
       " \"Arteta was grateful for his contribution against Southampton and felt it underlined the academy product's willingness to shoulder greater responsibility in his side, even at a young age.\",\n",
       " '\"That\\'s the maturity and that\\'s the steps that players have to do.',\n",
       " 'He has been long enough in the team now, he has the right to have that role,\" said Arteta.',\n",
       " '\"He believes in that, that he has the capacity to change games, to decide games, like many other players, and he wants to be at the top.',\n",
       " '\"Sometimes players have to create those moments, and he\\'s certainly done that today again.',\n",
       " '\"I think it\\'s another step ahead, and it\\'s what he wants.',\n",
       " '\"Do it at home, do it away, do it in big games, in the not-so-big games, and when the team needs it, not when it\\'s 3-0.',\n",
       " 'That is what defines a top, top player.',\n",
       " '\"What he\\'s doing at his age is unbelievable.',\n",
       " 'We have many examples of that as well.\"',\n",
       " 'Arteta fielded a front four with a combined total of 279 goals and 158 assists in the Premier League but it was the youngest member of the quartet who truly stepped up.',\n",
       " 'This was another outstanding display from Saka, who, at only 23, continues to be the player Arsenal look to in the difficult moments.',\n",
       " 'His pair of assists took him to seven in the Premier League this season.',\n",
       " 'At the time of writing, nobody else has more than four.',\n",
       " \"Saka's goal removed any jeopardy from the final few minutes of the game and followed a similarly important strike in Tuesday's Champions League win over Paris Saint-Germain.\",\n",
       " 'A closer look at the numbers underlines the extraordinary extent of his influence against Saints.',\n",
       " 'Having had seven shots and created eight chances in the 4-2 win over Leicester, another game in which he helped Arsenal avert disaster, he recorded similar numbers here, attempting another seven shots and creating another seven chances.',\n",
       " \"This time, he had a goal and two assists to show for his efforts; Arsenal's match-winner once again.\",\n",
       " 'Southampton need wins, and fast, but there is at least hope they are getting closer in the manner of their defeat at Arsenal.',\n",
       " 'Going 3-0 down in 39 minutes at Bournemouth on Monday really crystallised the fear that either Saints may be heading straight back to the Championship, or Russell Martin would soon be under pressure with a questionable line-up.',\n",
       " 'He showed more flexibility at the Emirates in shifting to a back five after a blistering opening 10 minutes from the hosts, who then took until first-half added time to force Aaron Ramsdale into a save.',\n",
       " 'Arsenal created an xG of just over 1.2 by the break, but almost half of that had come in the opening seven minutes.',\n",
       " 'Martin asked even more from his players at the interval and they responded by taking the lead, and even keeping Arsenal on tenterhooks until Saka put the game beyond doubt in the 88th minute.',\n",
       " 'This was not a side not playing for their manager, it was not a side lacking quality.',\n",
       " 'It was a glimpse of what Southampton can be.',\n",
       " 'But getting up to play Arsenal is easy, it is games like their next against Leicester which will decide their fate this season.',\n",
       " 'And now there can be no excuse for not matching this performance in a fortnight.',\n",
       " \"Saka set up goals for Kai Havertz and substitute Gabriel Martinelli before adding the third himself after the Gunners had fallen behind to Cameron Archer's strike at the Emirates Stadium.\",\n",
       " 'His assists took him to seven in the Premier League, the most by any player in the division, and his clinically-taken goal, converted first time after a Southampton mistake, followed his strike in the Champions League win over Paris Saint-Germain in midweek.',\n",
       " \"Arteta was grateful for his contribution against Southampton and felt it underlined the academy product's willingness to shoulder greater responsibility in his side, even at a young age.\",\n",
       " '\"That\\'s the maturity and that\\'s the steps that players have to do.',\n",
       " 'He has been long enough in the team now, he has the right to have that role,\" said Arteta.',\n",
       " '\"He believes in that, that he has the capacity to change games, to decide games, like many other players, and he wants to be at the top.',\n",
       " '\"Sometimes players have to create those moments, and he\\'s certainly done that today again.',\n",
       " '\"I think it\\'s another step ahead, and it\\'s what he wants.',\n",
       " '\"Do it at home, do it away, do it in big games, in the not-so-big games, and when the team needs it, not when it\\'s 3-0.',\n",
       " 'That is what defines a top, top player.',\n",
       " '\"What he\\'s doing at his age is unbelievable.',\n",
       " 'We have many examples of that as well.\"',\n",
       " 'Arteta fielded a front four with a combined total of 279 goals and 158 assists in the Premier League but it was the youngest member of the quartet who truly stepped up.',\n",
       " 'This was another outstanding display from Saka, who, at only 23, continues to be the player Arsenal look to in the difficult moments.',\n",
       " 'His pair of assists took him to seven in the Premier League this season.',\n",
       " 'At the time of writing, nobody else has more than four.',\n",
       " \"Saka's goal removed any jeopardy from the final few minutes of the game and followed a similarly important strike in Tuesday's Champions League win over Paris Saint-Germain.\",\n",
       " 'A closer look at the numbers underlines the extraordinary extent of his influence against Saints.',\n",
       " 'Having had seven shots and created eight chances in the 4-2 win over Leicester, another game in which he helped Arsenal avert disaster, he recorded similar numbers here, attempting another seven shots and creating another seven chances.',\n",
       " \"This time, he had a goal and two assists to show for his efforts; Arsenal's match-winner once again.\",\n",
       " 'Southampton need wins, and fast, but there is at least hope they are getting closer in the manner of their defeat at Arsenal.',\n",
       " 'Going 3-0 down in 39 minutes at Bournemouth on Monday really crystallised the fear that either Saints may be heading straight back to the Championship, or Russell Martin would soon be under pressure with a questionable line-up.',\n",
       " 'He showed more flexibility at the Emirates in shifting to a back five after a blistering opening 10 minutes from the hosts, who then took until first-half added time to force Aaron Ramsdale into a save.',\n",
       " 'Arsenal created an xG of just over 1.2 by the break, but almost half of that had come in the opening seven minutes.',\n",
       " 'Martin asked even more from his players at the interval and they responded by taking the lead, and even keeping Arsenal on tenterhooks until Saka put the game beyond doubt in the 88th minute.',\n",
       " 'This was not a side not playing for their manager, it was not a side lacking quality.',\n",
       " 'It was a glimpse of what Southampton can be.',\n",
       " 'But getting up to play Arsenal is easy, it is games like their next against Leicester which will decide their fate this season.',\n",
       " 'And now there can be no excuse for not matching this performance in a fortnight.']"
      ]
     },
     "execution_count": 33,
     "metadata": {},
     "output_type": "execute_result"
    }
   ],
   "source": [
    "ENTIRE_TEXT"
   ]
  },
  {
   "cell_type": "code",
   "execution_count": null,
   "metadata": {},
   "outputs": [],
   "source": []
  }
 ],
 "metadata": {
  "kernelspec": {
   "display_name": "_venv",
   "language": "python",
   "name": "python3"
  },
  "language_info": {
   "codemirror_mode": {
    "name": "ipython",
    "version": 3
   },
   "file_extension": ".py",
   "mimetype": "text/x-python",
   "name": "python",
   "nbconvert_exporter": "python",
   "pygments_lexer": "ipython3",
   "version": "3.9.11"
  }
 },
 "nbformat": 4,
 "nbformat_minor": 2
}
